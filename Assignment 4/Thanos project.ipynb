{
 "cells": [
  {
   "cell_type": "code",
   "execution_count": 2,
   "metadata": {},
   "outputs": [],
   "source": [
    "import os, random, string\n",
    "pics_list = os.listdir('universe')\n",
    "\n",
    "for img in pics_list:\n",
    "    error = True\n",
    "    while error:\n",
    "        try:\n",
    "            os.rename('universe/' + img, 'universe/' + ''.join(random.choice(string.ascii_letters + string.digits) for _ in range(5)) + '.jpg')\n",
    "            error = False\n",
    "        except FileExistsError:\n",
    "            error = True"
   ]
  },
  {
   "cell_type": "code",
   "execution_count": null,
   "metadata": {},
   "outputs": [],
   "source": []
  }
 ],
 "metadata": {
  "kernelspec": {
   "display_name": "Python 3",
   "language": "python",
   "name": "python3"
  },
  "language_info": {
   "codemirror_mode": {
    "name": "ipython",
    "version": 3
   },
   "file_extension": ".py",
   "mimetype": "text/x-python",
   "name": "python",
   "nbconvert_exporter": "python",
   "pygments_lexer": "ipython3",
   "version": "3.7.6"
  }
 },
 "nbformat": 4,
 "nbformat_minor": 4
}
