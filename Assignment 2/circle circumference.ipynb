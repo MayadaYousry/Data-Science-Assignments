{
 "cells": [
  {
   "cell_type": "code",
   "execution_count": 3,
   "metadata": {},
   "outputs": [
    {
     "name": "stdout",
     "output_type": "stream",
     "text": [
      "please enter circle radius\n",
      "10\n",
      "please enter measuring unit\n",
      "cm\n",
      "circle circumference = 62.83185307179586 cm\n"
     ]
    }
   ],
   "source": [
    "import math\n",
    "radius = float(input('please enter circle radius\\n'))\n",
    "measuring_unit = input('please enter measuring unit\\n')\n",
    "print('circle circumference = ' + str (2 * math.pi * radius) + ' ' + measuring_unit)"
   ]
  },
  {
   "cell_type": "code",
   "execution_count": null,
   "metadata": {},
   "outputs": [],
   "source": []
  }
 ],
 "metadata": {
  "kernelspec": {
   "display_name": "Python 3",
   "language": "python",
   "name": "python3"
  },
  "language_info": {
   "codemirror_mode": {
    "name": "ipython",
    "version": 3
   },
   "file_extension": ".py",
   "mimetype": "text/x-python",
   "name": "python",
   "nbconvert_exporter": "python",
   "pygments_lexer": "ipython3",
   "version": "3.7.6"
  }
 },
 "nbformat": 4,
 "nbformat_minor": 4
}
