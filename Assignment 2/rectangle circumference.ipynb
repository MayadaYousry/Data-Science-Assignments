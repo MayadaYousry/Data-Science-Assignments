{
 "cells": [
  {
   "cell_type": "code",
   "execution_count": 1,
   "metadata": {},
   "outputs": [
    {
     "name": "stdout",
     "output_type": "stream",
     "text": [
      "please enter rectangle width\n",
      "5\n",
      "please enter rectangle height\n",
      "10\n",
      "please enter measuring unit\n",
      "cm\n",
      "rectangle circumference = 30.0 cm\n"
     ]
    }
   ],
   "source": [
    "width = float(input('please enter rectangle width\\n'))\n",
    "height = float(input('please enter rectangle height\\n'))\n",
    "measuring_unit = input('please enter measuring unit\\n')\n",
    "print('rectangle circumference = ' + str(2 * (width + height)) + ' ' + measuring_unit)"
   ]
  },
  {
   "cell_type": "code",
   "execution_count": null,
   "metadata": {},
   "outputs": [],
   "source": []
  }
 ],
 "metadata": {
  "kernelspec": {
   "display_name": "Python 3",
   "language": "python",
   "name": "python3"
  },
  "language_info": {
   "codemirror_mode": {
    "name": "ipython",
    "version": 3
   },
   "file_extension": ".py",
   "mimetype": "text/x-python",
   "name": "python",
   "nbconvert_exporter": "python",
   "pygments_lexer": "ipython3",
   "version": "3.7.6"
  }
 },
 "nbformat": 4,
 "nbformat_minor": 4
}
